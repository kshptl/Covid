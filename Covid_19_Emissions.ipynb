{
  "nbformat": 4,
  "nbformat_minor": 0,
  "metadata": {
    "colab": {
      "name": "DATA 605 Covid 19 Emissions",
      "provenance": [],
      "collapsed_sections": []
    },
    "kernelspec": {
      "display_name": "Python 3",
      "name": "python3"
    }
  },
  "cells": [
    {
      "cell_type": "code",
      "metadata": {
        "id": "CnOhvSw98o9C",
        "colab_type": "code",
        "colab": {
          "base_uri": "https://localhost:8080/",
          "height": 34
        },
        "outputId": "20cdf9a5-3947-4918-ac98-a66a3376fff5"
      },
      "source": [
        "print(\"Hello Data 605\")"
      ],
      "execution_count": null,
      "outputs": [
        {
          "output_type": "stream",
          "text": [
            "Hello Data 605\n"
          ],
          "name": "stdout"
        }
      ]
    },
    {
      "cell_type": "code",
      "metadata": {
        "id": "TMwVX-ohGMOH",
        "colab_type": "code",
        "colab": {
          "base_uri": "https://localhost:8080/",
          "height": 367
        },
        "outputId": "ee5ad096-8b3e-4438-a16c-9536a17cf9d2"
      },
      "source": [
        "#setup spark and imports\n",
        "%config IPCompleter.greedy=True\n",
        "import findspark\n",
        "findspark.init()\n",
        "findspark.find()\n",
        "import pyspark\n",
        "findspark.find()\n",
        "from pyspark.sql import SparkSession"
      ],
      "execution_count": null,
      "outputs": [
        {
          "output_type": "error",
          "ename": "ModuleNotFoundError",
          "evalue": "ignored",
          "traceback": [
            "\u001b[0;31m---------------------------------------------------------------------------\u001b[0m",
            "\u001b[0;31mModuleNotFoundError\u001b[0m                       Traceback (most recent call last)",
            "\u001b[0;32m<ipython-input-3-ab98640cd431>\u001b[0m in \u001b[0;36m<module>\u001b[0;34m()\u001b[0m\n\u001b[1;32m      1\u001b[0m \u001b[0;31m#setup spark and imports\u001b[0m\u001b[0;34m\u001b[0m\u001b[0;34m\u001b[0m\u001b[0;34m\u001b[0m\u001b[0m\n\u001b[1;32m      2\u001b[0m \u001b[0mget_ipython\u001b[0m\u001b[0;34m(\u001b[0m\u001b[0;34m)\u001b[0m\u001b[0;34m.\u001b[0m\u001b[0mmagic\u001b[0m\u001b[0;34m(\u001b[0m\u001b[0;34m'config IPCompleter.greedy=True'\u001b[0m\u001b[0;34m)\u001b[0m\u001b[0;34m\u001b[0m\u001b[0;34m\u001b[0m\u001b[0m\n\u001b[0;32m----> 3\u001b[0;31m \u001b[0;32mimport\u001b[0m \u001b[0mfindspark\u001b[0m\u001b[0;34m\u001b[0m\u001b[0;34m\u001b[0m\u001b[0m\n\u001b[0m\u001b[1;32m      4\u001b[0m \u001b[0mfindspark\u001b[0m\u001b[0;34m.\u001b[0m\u001b[0minit\u001b[0m\u001b[0;34m(\u001b[0m\u001b[0;34m)\u001b[0m\u001b[0;34m\u001b[0m\u001b[0;34m\u001b[0m\u001b[0m\n\u001b[1;32m      5\u001b[0m \u001b[0mfindspark\u001b[0m\u001b[0;34m.\u001b[0m\u001b[0mfind\u001b[0m\u001b[0;34m(\u001b[0m\u001b[0;34m)\u001b[0m\u001b[0;34m\u001b[0m\u001b[0;34m\u001b[0m\u001b[0m\n",
            "\u001b[0;31mModuleNotFoundError\u001b[0m: No module named 'findspark'",
            "",
            "\u001b[0;31m---------------------------------------------------------------------------\u001b[0;32m\nNOTE: If your import is failing due to a missing package, you can\nmanually install dependencies using either !pip or !apt.\n\nTo view examples of installing some common dependencies, click the\n\"Open Examples\" button below.\n\u001b[0;31m---------------------------------------------------------------------------\u001b[0m\n"
          ]
        }
      ]
    },
    {
      "cell_type": "code",
      "metadata": {
        "id": "Ed7kXqAuFDGb",
        "colab_type": "code",
        "colab": {}
      },
      "source": [
        "import pandas as pd\n",
        "import matplotlib.pyplot as plt\n",
        "import io"
      ],
      "execution_count": null,
      "outputs": []
    },
    {
      "cell_type": "code",
      "metadata": {
        "id": "a91JbAZzGIKJ",
        "colab_type": "code",
        "colab": {
          "base_uri": "https://localhost:8080/",
          "height": 254
        },
        "outputId": "566f0cd3-b9c0-4e1a-ba60-93988b5aea84"
      },
      "source": [
        "#get spark session, close it if it already exists, otherwise create a new one\n",
        "try:\n",
        "    if sc is None:\n",
        "        print(\"sc is not defined\")\n",
        "except Exception:\n",
        "        print(\"error found, recovering and creating spark connection\")\n",
        "else:\n",
        "        print(\"old sc found, stopping it now\")    \n",
        "        sc.stop()\n",
        "        print(\"stopped old sc\")\n",
        "\n",
        "conf = pyspark.SparkConf().setAppName('app').setMaster('local[2]')\n",
        "sc = pyspark.SparkContext(conf=conf)\n",
        "sc.setSystemProperty('spark.executor.memory','12g')\n",
        "spark = SparkSession(sc)\n",
        "\"created spark session\""
      ],
      "execution_count": null,
      "outputs": [
        {
          "output_type": "stream",
          "text": [
            "error found, recovering and creating spark connection\n"
          ],
          "name": "stdout"
        },
        {
          "output_type": "error",
          "ename": "NameError",
          "evalue": "ignored",
          "traceback": [
            "\u001b[0;31m---------------------------------------------------------------------------\u001b[0m",
            "\u001b[0;31mNameError\u001b[0m                                 Traceback (most recent call last)",
            "\u001b[0;32m<ipython-input-23-02f87ae995da>\u001b[0m in \u001b[0;36m<module>\u001b[0;34m()\u001b[0m\n\u001b[1;32m     10\u001b[0m         \u001b[0mprint\u001b[0m\u001b[0;34m(\u001b[0m\u001b[0;34m\"stopped old sc\"\u001b[0m\u001b[0;34m)\u001b[0m\u001b[0;34m\u001b[0m\u001b[0;34m\u001b[0m\u001b[0m\n\u001b[1;32m     11\u001b[0m \u001b[0;34m\u001b[0m\u001b[0m\n\u001b[0;32m---> 12\u001b[0;31m \u001b[0mconf\u001b[0m \u001b[0;34m=\u001b[0m \u001b[0mpyspark\u001b[0m\u001b[0;34m.\u001b[0m\u001b[0mSparkConf\u001b[0m\u001b[0;34m(\u001b[0m\u001b[0;34m)\u001b[0m\u001b[0;34m.\u001b[0m\u001b[0msetAppName\u001b[0m\u001b[0;34m(\u001b[0m\u001b[0;34m'app'\u001b[0m\u001b[0;34m)\u001b[0m\u001b[0;34m.\u001b[0m\u001b[0msetMaster\u001b[0m\u001b[0;34m(\u001b[0m\u001b[0;34m'local[2]'\u001b[0m\u001b[0;34m)\u001b[0m\u001b[0;34m\u001b[0m\u001b[0;34m\u001b[0m\u001b[0m\n\u001b[0m\u001b[1;32m     13\u001b[0m \u001b[0msc\u001b[0m \u001b[0;34m=\u001b[0m \u001b[0mpyspark\u001b[0m\u001b[0;34m.\u001b[0m\u001b[0mSparkContext\u001b[0m\u001b[0;34m(\u001b[0m\u001b[0mconf\u001b[0m\u001b[0;34m=\u001b[0m\u001b[0mconf\u001b[0m\u001b[0;34m)\u001b[0m\u001b[0;34m\u001b[0m\u001b[0;34m\u001b[0m\u001b[0m\n\u001b[1;32m     14\u001b[0m \u001b[0msc\u001b[0m\u001b[0;34m.\u001b[0m\u001b[0msetSystemProperty\u001b[0m\u001b[0;34m(\u001b[0m\u001b[0;34m'spark.executor.memory'\u001b[0m\u001b[0;34m,\u001b[0m\u001b[0;34m'12g'\u001b[0m\u001b[0;34m)\u001b[0m\u001b[0;34m\u001b[0m\u001b[0;34m\u001b[0m\u001b[0m\n",
            "\u001b[0;31mNameError\u001b[0m: name 'pyspark' is not defined"
          ]
        }
      ]
    },
    {
      "cell_type": "code",
      "metadata": {
        "id": "OtdzhuzMGfRv",
        "colab_type": "code",
        "colab": {
          "base_uri": "https://localhost:8080/",
          "height": 201
        },
        "outputId": "8ead0431-e376-4542-c51d-2da3a2030700"
      },
      "source": [
        "lockdown_dates = spark.read.load(\"https://covid605.s3.amazonaws.com/countryLockdowndatesJHUMatch.csv\",\n",
        "                     format=\"csv\", sep=\",\", inferSchema=\"true\", header=\"true\")\n",
        "credits.printSchema()"
      ],
      "execution_count": null,
      "outputs": [
        {
          "output_type": "error",
          "ename": "NameError",
          "evalue": "ignored",
          "traceback": [
            "\u001b[0;31m---------------------------------------------------------------------------\u001b[0m",
            "\u001b[0;31mNameError\u001b[0m                                 Traceback (most recent call last)",
            "\u001b[0;32m<ipython-input-24-afd399e678bf>\u001b[0m in \u001b[0;36m<module>\u001b[0;34m()\u001b[0m\n\u001b[0;32m----> 1\u001b[0;31m lockdown_dates = spark.read.load(\"https://covid605.s3.amazonaws.com/countryLockdowndatesJHUMatch.csv\",\n\u001b[0m\u001b[1;32m      2\u001b[0m                      format=\"csv\", sep=\",\", inferSchema=\"true\", header=\"true\")\n\u001b[1;32m      3\u001b[0m \u001b[0mcredits\u001b[0m\u001b[0;34m.\u001b[0m\u001b[0mprintSchema\u001b[0m\u001b[0;34m(\u001b[0m\u001b[0;34m)\u001b[0m\u001b[0;34m\u001b[0m\u001b[0;34m\u001b[0m\u001b[0m\n",
            "\u001b[0;31mNameError\u001b[0m: name 'spark' is not defined"
          ]
        }
      ]
    },
    {
      "cell_type": "code",
      "metadata": {
        "id": "dyciecQQE6mJ",
        "colab_type": "code",
        "colab": {
          "base_uri": "https://localhost:8080/",
          "height": 52
        },
        "outputId": "59d15cb5-c1ea-46bb-dc8f-3d395cd18ba7"
      },
      "source": [
        "lockdown_dates = pd.read_csv(\"https://covid605.s3.amazonaws.com/countryLockdowndatesJHUMatch.csv\")\n",
        "global_mobility = pd.read_csv(\"https://covid605.s3.amazonaws.com/Global_Mobility_Report.csv\")\n",
        "tempa_traffic = pd.read_csv(\"https://covid605.s3.amazonaws.com/TampaTraffic.csv\")\n",
        "emissions = pd.read_csv(\"https://covid605.s3.amazonaws.com/daily_aqi_by_county_2020.csv\")\n",
        "emissions_master = pd.read_csv(\"https://covid605.s3.amazonaws.com/ad_aqi_tracker_data_Master.csv\")\n"
      ],
      "execution_count": null,
      "outputs": [
        {
          "output_type": "stream",
          "text": [
            "/usr/local/lib/python3.6/dist-packages/IPython/core/interactiveshell.py:2718: DtypeWarning: Columns (3) have mixed types.Specify dtype option on import or set low_memory=False.\n",
            "  interactivity=interactivity, compiler=compiler, result=result)\n"
          ],
          "name": "stderr"
        }
      ]
    },
    {
      "cell_type": "code",
      "metadata": {
        "id": "6toZT1v6GRuI",
        "colab_type": "code",
        "colab": {
          "base_uri": "https://localhost:8080/",
          "height": 52
        },
        "outputId": "8289bfd8-84a6-4c01-aa8b-5f38a6c2e89f"
      },
      "source": [
        "#Combine mobility and emissions for Mercer county in New Jersey. \n",
        "#mercer_nj_emissions = emissions[emissions['State Name'] == \"New Jersey\"][emissions['county Name'] == \"Mercer\"]\n",
        "nj_emmisions = emissions_master.copy()\n",
        "nj_mobility = global_mobility.copy()[(global_mobility.country_region == 'United States')][(global_mobility.sub_region_1 == 'New Jersey')]#\n",
        "#mercer_nj_mobility = mercer_nj_mobility.rename(columns={'date':'Date'})\n",
        "\n",
        "#mercer_nj = mercer_nj_emissions.set_index('Date').join(mercer_nj_mobility.set_index('Date'))\n",
        "\n",
        "#Only 9 days in the data have both information\n",
        "#mercer_nj_both = mercer_nj[mercer_nj.country_region_code == 'US']"
      ],
      "execution_count": null,
      "outputs": [
        {
          "output_type": "stream",
          "text": [
            "/usr/local/lib/python3.6/dist-packages/ipykernel_launcher.py:4: UserWarning: Boolean Series key will be reindexed to match DataFrame index.\n",
            "  after removing the cwd from sys.path.\n"
          ],
          "name": "stderr"
        }
      ]
    },
    {
      "cell_type": "code",
      "metadata": {
        "id": "m4lTrQ42v--k",
        "colab_type": "code",
        "colab": {}
      },
      "source": [
        "# use difference from avg to compare emissions with mobility\n",
        "mercer_nj_both_aqi_average = sum(mercer_nj_both['AQI']) / len(mercer_nj_both['AQI'])"
      ],
      "execution_count": null,
      "outputs": []
    },
    {
      "cell_type": "code",
      "metadata": {
        "id": "82MXIdbYcgpx",
        "colab_type": "code",
        "colab": {}
      },
      "source": [
        "#all the nj counties \n",
        "nj_counties = set(nj_mobility['sub_region_2'].tolist())\n",
        "nj_counties = {x for x in nj_counties if x==x}\n",
        "nj_counties = list(nj_counties)\n",
        "#make emmisions county name consisitent with mobility dataset county names\n",
        "nj_emmisions['County'] = [county + ' County' for county in nj_emmisions['County']]"
      ],
      "execution_count": null,
      "outputs": []
    },
    {
      "cell_type": "code",
      "metadata": {
        "id": "kQe_vu6IcmIL",
        "colab_type": "code",
        "colab": {}
      },
      "source": [
        "#remove unused features\n",
        "nj_mobility_mask = nj_mobility['sub_region_2'].isin(nj_counties)\n",
        "nj_mobility_selected = nj_mobility.loc[nj_mobility_mask,:].drop(['country_region_code', 'country_region', 'sub_region_1'], axis=1)\n",
        "\n",
        "nj_emmisions_mask = nj_emmisions['County'].isin(nj_counties)\n",
        "nj_emmisions_selected = nj_emmisions.loc[nj_emmisions_mask,:].drop(['Main Pollutant', 'Site Name', 'Site ID', 'Source'], axis =1)\n",
        "#make feature names consistent in two tables\n",
        "nj_mobility_selected = nj_mobility_selected.rename(columns={'sub_region_2':'County', 'date':'Date'})"
      ],
      "execution_count": null,
      "outputs": []
    },
    {
      "cell_type": "code",
      "metadata": {
        "id": "UmxSmPwXc82f",
        "colab_type": "code",
        "colab": {}
      },
      "source": [
        "#change the DATE format of two datasets\n",
        "nj_mobility_selected['Date'] = pd.to_datetime(nj_mobility_selected['Date'])\n",
        "nj_emmisions_selected['Date'] = pd.to_datetime(nj_emmisions_selected['Date'])\n",
        "nj_emmisions_selected['Date'] = nj_emmisions_selected['Date'].dt.strftime('%m/%d/%Y')\n",
        "nj_mobility_selected['Date'] = nj_mobility_selected['Date'].dt.strftime('%m/%d/%Y')\n"
      ],
      "execution_count": null,
      "outputs": []
    },
    {
      "cell_type": "code",
      "metadata": {
        "id": "zsdvRi99dTHg",
        "colab_type": "code",
        "colab": {}
      },
      "source": [
        "#merge two tables based on Date and County names\n",
        "both_nj = pd.merge(nj_emmisions_selected, nj_mobility_selected, left_on=['County','Date'], right_on=['County','Date'])\n",
        "#print(f'before dropping missing data: {both_nj.shape}')\n",
        "#both_nj = both_nj.dropna()\n",
        "#print(f'after dropping missing data: {both_nj.shape}')"
      ],
      "execution_count": null,
      "outputs": []
    },
    {
      "cell_type": "code",
      "metadata": {
        "id": "zodctXP7dd56",
        "colab_type": "code",
        "colab": {
          "base_uri": "https://localhost:8080/",
          "height": 652
        },
        "outputId": "7db65414-73f3-4ef7-897c-28c490978d96"
      },
      "source": [
        "#show merged dataset\n",
        "display(both_nj)"
      ],
      "execution_count": null,
      "outputs": [
        {
          "output_type": "display_data",
          "data": {
            "text/html": [
              "<div>\n",
              "<style scoped>\n",
              "    .dataframe tbody tr th:only-of-type {\n",
              "        vertical-align: middle;\n",
              "    }\n",
              "\n",
              "    .dataframe tbody tr th {\n",
              "        vertical-align: top;\n",
              "    }\n",
              "\n",
              "    .dataframe thead th {\n",
              "        text-align: right;\n",
              "    }\n",
              "</style>\n",
              "<table border=\"1\" class=\"dataframe\">\n",
              "  <thead>\n",
              "    <tr style=\"text-align: right;\">\n",
              "      <th></th>\n",
              "      <th>Date</th>\n",
              "      <th>AQI Value</th>\n",
              "      <th>County</th>\n",
              "      <th>20-year High (1980-2019)</th>\n",
              "      <th>20-year Low (1980-2019)</th>\n",
              "      <th>5-year Average (2015-2019)</th>\n",
              "      <th>retail_and_recreation_percent_change_from_baseline</th>\n",
              "      <th>grocery_and_pharmacy_percent_change_from_baseline</th>\n",
              "      <th>parks_percent_change_from_baseline</th>\n",
              "      <th>transit_stations_percent_change_from_baseline</th>\n",
              "      <th>workplaces_percent_change_from_baseline</th>\n",
              "      <th>residential_percent_change_from_baseline</th>\n",
              "    </tr>\n",
              "  </thead>\n",
              "  <tbody>\n",
              "    <tr>\n",
              "      <th>0</th>\n",
              "      <td>02/15/2020</td>\n",
              "      <td>28</td>\n",
              "      <td>Atlantic County</td>\n",
              "      <td>59</td>\n",
              "      <td>27</td>\n",
              "      <td>35.2</td>\n",
              "      <td>14.0</td>\n",
              "      <td>7.0</td>\n",
              "      <td>11.0</td>\n",
              "      <td>18.0</td>\n",
              "      <td>2.0</td>\n",
              "      <td>0.0</td>\n",
              "    </tr>\n",
              "    <tr>\n",
              "      <th>1</th>\n",
              "      <td>02/16/2020</td>\n",
              "      <td>29</td>\n",
              "      <td>Atlantic County</td>\n",
              "      <td>62</td>\n",
              "      <td>21</td>\n",
              "      <td>33.4</td>\n",
              "      <td>15.0</td>\n",
              "      <td>7.0</td>\n",
              "      <td>29.0</td>\n",
              "      <td>22.0</td>\n",
              "      <td>4.0</td>\n",
              "      <td>-1.0</td>\n",
              "    </tr>\n",
              "    <tr>\n",
              "      <th>2</th>\n",
              "      <td>02/17/2020</td>\n",
              "      <td>40</td>\n",
              "      <td>Atlantic County</td>\n",
              "      <td>53</td>\n",
              "      <td>26</td>\n",
              "      <td>37.2</td>\n",
              "      <td>17.0</td>\n",
              "      <td>5.0</td>\n",
              "      <td>67.0</td>\n",
              "      <td>2.0</td>\n",
              "      <td>-23.0</td>\n",
              "      <td>4.0</td>\n",
              "    </tr>\n",
              "    <tr>\n",
              "      <th>3</th>\n",
              "      <td>02/18/2020</td>\n",
              "      <td>34</td>\n",
              "      <td>Atlantic County</td>\n",
              "      <td>48</td>\n",
              "      <td>20</td>\n",
              "      <td>35.4</td>\n",
              "      <td>8.0</td>\n",
              "      <td>7.0</td>\n",
              "      <td>34.0</td>\n",
              "      <td>10.0</td>\n",
              "      <td>4.0</td>\n",
              "      <td>-1.0</td>\n",
              "    </tr>\n",
              "    <tr>\n",
              "      <th>4</th>\n",
              "      <td>02/19/2020</td>\n",
              "      <td>32</td>\n",
              "      <td>Atlantic County</td>\n",
              "      <td>56</td>\n",
              "      <td>19</td>\n",
              "      <td>37.4</td>\n",
              "      <td>7.0</td>\n",
              "      <td>5.0</td>\n",
              "      <td>25.0</td>\n",
              "      <td>13.0</td>\n",
              "      <td>3.0</td>\n",
              "      <td>-1.0</td>\n",
              "    </tr>\n",
              "    <tr>\n",
              "      <th>...</th>\n",
              "      <td>...</td>\n",
              "      <td>...</td>\n",
              "      <td>...</td>\n",
              "      <td>...</td>\n",
              "      <td>...</td>\n",
              "      <td>...</td>\n",
              "      <td>...</td>\n",
              "      <td>...</td>\n",
              "      <td>...</td>\n",
              "      <td>...</td>\n",
              "      <td>...</td>\n",
              "      <td>...</td>\n",
              "    </tr>\n",
              "    <tr>\n",
              "      <th>1426</th>\n",
              "      <td>05/12/2020</td>\n",
              "      <td>40</td>\n",
              "      <td>Warren County</td>\n",
              "      <td>99</td>\n",
              "      <td>20</td>\n",
              "      <td>42.6</td>\n",
              "      <td>-26.0</td>\n",
              "      <td>-15.0</td>\n",
              "      <td>NaN</td>\n",
              "      <td>-10.0</td>\n",
              "      <td>-46.0</td>\n",
              "      <td>19.0</td>\n",
              "    </tr>\n",
              "    <tr>\n",
              "      <th>1427</th>\n",
              "      <td>05/13/2020</td>\n",
              "      <td>40</td>\n",
              "      <td>Warren County</td>\n",
              "      <td>84</td>\n",
              "      <td>1</td>\n",
              "      <td>24.4</td>\n",
              "      <td>-21.0</td>\n",
              "      <td>-13.0</td>\n",
              "      <td>NaN</td>\n",
              "      <td>-5.0</td>\n",
              "      <td>-46.0</td>\n",
              "      <td>20.0</td>\n",
              "    </tr>\n",
              "    <tr>\n",
              "      <th>1428</th>\n",
              "      <td>05/14/2020</td>\n",
              "      <td>49</td>\n",
              "      <td>Warren County</td>\n",
              "      <td>54</td>\n",
              "      <td>19</td>\n",
              "      <td>35.2</td>\n",
              "      <td>-23.0</td>\n",
              "      <td>-15.0</td>\n",
              "      <td>NaN</td>\n",
              "      <td>-13.0</td>\n",
              "      <td>-47.0</td>\n",
              "      <td>18.0</td>\n",
              "    </tr>\n",
              "    <tr>\n",
              "      <th>1429</th>\n",
              "      <td>05/15/2020</td>\n",
              "      <td>58</td>\n",
              "      <td>Warren County</td>\n",
              "      <td>74</td>\n",
              "      <td>25</td>\n",
              "      <td>42.25</td>\n",
              "      <td>-24.0</td>\n",
              "      <td>-15.0</td>\n",
              "      <td>NaN</td>\n",
              "      <td>-16.0</td>\n",
              "      <td>-46.0</td>\n",
              "      <td>20.0</td>\n",
              "    </tr>\n",
              "    <tr>\n",
              "      <th>1430</th>\n",
              "      <td>05/16/2020</td>\n",
              "      <td>34</td>\n",
              "      <td>Warren County</td>\n",
              "      <td>80</td>\n",
              "      <td>4</td>\n",
              "      <td>41</td>\n",
              "      <td>-21.0</td>\n",
              "      <td>-7.0</td>\n",
              "      <td>NaN</td>\n",
              "      <td>-9.0</td>\n",
              "      <td>-24.0</td>\n",
              "      <td>9.0</td>\n",
              "    </tr>\n",
              "  </tbody>\n",
              "</table>\n",
              "<p>1431 rows × 12 columns</p>\n",
              "</div>"
            ],
            "text/plain": [
              "            Date  ...  residential_percent_change_from_baseline\n",
              "0     02/15/2020  ...                                       0.0\n",
              "1     02/16/2020  ...                                      -1.0\n",
              "2     02/17/2020  ...                                       4.0\n",
              "3     02/18/2020  ...                                      -1.0\n",
              "4     02/19/2020  ...                                      -1.0\n",
              "...          ...  ...                                       ...\n",
              "1426  05/12/2020  ...                                      19.0\n",
              "1427  05/13/2020  ...                                      20.0\n",
              "1428  05/14/2020  ...                                      18.0\n",
              "1429  05/15/2020  ...                                      20.0\n",
              "1430  05/16/2020  ...                                       9.0\n",
              "\n",
              "[1431 rows x 12 columns]"
            ]
          },
          "metadata": {
            "tags": []
          }
        }
      ]
    },
    {
      "cell_type": "code",
      "metadata": {
        "id": "SmFUcy5swKJk",
        "colab_type": "code",
        "colab": {
          "base_uri": "https://localhost:8080/",
          "height": 616
        },
        "outputId": "e864b473-ed88-421a-9e59-da4aab01619b"
      },
      "source": [
        "fig = plt.figure()\n",
        "ax1  = fig.add_subplot(121)\n",
        "plt.plot(mercer_nj_both.index, [x - mercer_nj_both_aqi_average for x in mercer_nj_both['AQI']], label = \"AQI\")\n",
        "plt.plot(mercer_nj_both.index, mercer_nj_both['retail_and_recreation_percent_change_from_baseline'], label = \"mobility\")\n",
        "plt.legend(loc=\"upper left\")\n",
        "plt.show()"
      ],
      "execution_count": null,
      "outputs": [
        {
          "output_type": "error",
          "ename": "NameError",
          "evalue": "ignored",
          "traceback": [
            "\u001b[0;31m---------------------------------------------------------------------------\u001b[0m",
            "\u001b[0;31mNameError\u001b[0m                                 Traceback (most recent call last)",
            "\u001b[0;32m<ipython-input-6-d655d32b4347>\u001b[0m in \u001b[0;36m<module>\u001b[0;34m()\u001b[0m\n\u001b[1;32m      1\u001b[0m \u001b[0mfig\u001b[0m \u001b[0;34m=\u001b[0m \u001b[0mplt\u001b[0m\u001b[0;34m.\u001b[0m\u001b[0mfigure\u001b[0m\u001b[0;34m(\u001b[0m\u001b[0;34m)\u001b[0m\u001b[0;34m\u001b[0m\u001b[0;34m\u001b[0m\u001b[0m\n\u001b[1;32m      2\u001b[0m \u001b[0max1\u001b[0m  \u001b[0;34m=\u001b[0m \u001b[0mfig\u001b[0m\u001b[0;34m.\u001b[0m\u001b[0madd_subplot\u001b[0m\u001b[0;34m(\u001b[0m\u001b[0;36m121\u001b[0m\u001b[0;34m)\u001b[0m\u001b[0;34m\u001b[0m\u001b[0;34m\u001b[0m\u001b[0m\n\u001b[0;32m----> 3\u001b[0;31m \u001b[0mplt\u001b[0m\u001b[0;34m.\u001b[0m\u001b[0mplot\u001b[0m\u001b[0;34m(\u001b[0m\u001b[0mmercer_nj_both\u001b[0m\u001b[0;34m.\u001b[0m\u001b[0mindex\u001b[0m\u001b[0;34m,\u001b[0m \u001b[0;34m[\u001b[0m\u001b[0mx\u001b[0m \u001b[0;34m-\u001b[0m \u001b[0mmercer_nj_both_aqi_average\u001b[0m \u001b[0;32mfor\u001b[0m \u001b[0mx\u001b[0m \u001b[0;32min\u001b[0m \u001b[0mmercer_nj_both\u001b[0m\u001b[0;34m[\u001b[0m\u001b[0;34m'AQI'\u001b[0m\u001b[0;34m]\u001b[0m\u001b[0;34m]\u001b[0m\u001b[0;34m,\u001b[0m \u001b[0mlabel\u001b[0m \u001b[0;34m=\u001b[0m \u001b[0;34m\"AQI\"\u001b[0m\u001b[0;34m)\u001b[0m\u001b[0;34m\u001b[0m\u001b[0;34m\u001b[0m\u001b[0m\n\u001b[0m\u001b[1;32m      4\u001b[0m \u001b[0mplt\u001b[0m\u001b[0;34m.\u001b[0m\u001b[0mplot\u001b[0m\u001b[0;34m(\u001b[0m\u001b[0mmercer_nj_both\u001b[0m\u001b[0;34m.\u001b[0m\u001b[0mindex\u001b[0m\u001b[0;34m,\u001b[0m \u001b[0mmercer_nj_both\u001b[0m\u001b[0;34m[\u001b[0m\u001b[0;34m'retail_and_recreation_percent_change_from_baseline'\u001b[0m\u001b[0;34m]\u001b[0m\u001b[0;34m,\u001b[0m \u001b[0mlabel\u001b[0m \u001b[0;34m=\u001b[0m \u001b[0;34m\"mobility\"\u001b[0m\u001b[0;34m)\u001b[0m\u001b[0;34m\u001b[0m\u001b[0;34m\u001b[0m\u001b[0m\n\u001b[1;32m      5\u001b[0m \u001b[0mplt\u001b[0m\u001b[0;34m.\u001b[0m\u001b[0mlegend\u001b[0m\u001b[0;34m(\u001b[0m\u001b[0mloc\u001b[0m\u001b[0;34m=\u001b[0m\u001b[0;34m\"upper left\"\u001b[0m\u001b[0;34m)\u001b[0m\u001b[0;34m\u001b[0m\u001b[0;34m\u001b[0m\u001b[0m\n",
            "\u001b[0;32m<ipython-input-6-d655d32b4347>\u001b[0m in \u001b[0;36m<listcomp>\u001b[0;34m(.0)\u001b[0m\n\u001b[1;32m      1\u001b[0m \u001b[0mfig\u001b[0m \u001b[0;34m=\u001b[0m \u001b[0mplt\u001b[0m\u001b[0;34m.\u001b[0m\u001b[0mfigure\u001b[0m\u001b[0;34m(\u001b[0m\u001b[0;34m)\u001b[0m\u001b[0;34m\u001b[0m\u001b[0;34m\u001b[0m\u001b[0m\n\u001b[1;32m      2\u001b[0m \u001b[0max1\u001b[0m  \u001b[0;34m=\u001b[0m \u001b[0mfig\u001b[0m\u001b[0;34m.\u001b[0m\u001b[0madd_subplot\u001b[0m\u001b[0;34m(\u001b[0m\u001b[0;36m121\u001b[0m\u001b[0;34m)\u001b[0m\u001b[0;34m\u001b[0m\u001b[0;34m\u001b[0m\u001b[0m\n\u001b[0;32m----> 3\u001b[0;31m \u001b[0mplt\u001b[0m\u001b[0;34m.\u001b[0m\u001b[0mplot\u001b[0m\u001b[0;34m(\u001b[0m\u001b[0mmercer_nj_both\u001b[0m\u001b[0;34m.\u001b[0m\u001b[0mindex\u001b[0m\u001b[0;34m,\u001b[0m \u001b[0;34m[\u001b[0m\u001b[0mx\u001b[0m \u001b[0;34m-\u001b[0m \u001b[0mmercer_nj_both_aqi_average\u001b[0m \u001b[0;32mfor\u001b[0m \u001b[0mx\u001b[0m \u001b[0;32min\u001b[0m \u001b[0mmercer_nj_both\u001b[0m\u001b[0;34m[\u001b[0m\u001b[0;34m'AQI'\u001b[0m\u001b[0;34m]\u001b[0m\u001b[0;34m]\u001b[0m\u001b[0;34m,\u001b[0m \u001b[0mlabel\u001b[0m \u001b[0;34m=\u001b[0m \u001b[0;34m\"AQI\"\u001b[0m\u001b[0;34m)\u001b[0m\u001b[0;34m\u001b[0m\u001b[0;34m\u001b[0m\u001b[0m\n\u001b[0m\u001b[1;32m      4\u001b[0m \u001b[0mplt\u001b[0m\u001b[0;34m.\u001b[0m\u001b[0mplot\u001b[0m\u001b[0;34m(\u001b[0m\u001b[0mmercer_nj_both\u001b[0m\u001b[0;34m.\u001b[0m\u001b[0mindex\u001b[0m\u001b[0;34m,\u001b[0m \u001b[0mmercer_nj_both\u001b[0m\u001b[0;34m[\u001b[0m\u001b[0;34m'retail_and_recreation_percent_change_from_baseline'\u001b[0m\u001b[0;34m]\u001b[0m\u001b[0;34m,\u001b[0m \u001b[0mlabel\u001b[0m \u001b[0;34m=\u001b[0m \u001b[0;34m\"mobility\"\u001b[0m\u001b[0;34m)\u001b[0m\u001b[0;34m\u001b[0m\u001b[0;34m\u001b[0m\u001b[0m\n\u001b[1;32m      5\u001b[0m \u001b[0mplt\u001b[0m\u001b[0;34m.\u001b[0m\u001b[0mlegend\u001b[0m\u001b[0;34m(\u001b[0m\u001b[0mloc\u001b[0m\u001b[0;34m=\u001b[0m\u001b[0;34m\"upper left\"\u001b[0m\u001b[0;34m)\u001b[0m\u001b[0;34m\u001b[0m\u001b[0;34m\u001b[0m\u001b[0m\n",
            "\u001b[0;31mNameError\u001b[0m: name 'mercer_nj_both_aqi_average' is not defined"
          ]
        },
        {
          "output_type": "display_data",
          "data": {
            "image/png": "[encoded data removed]",
            "text/plain": [
              "<Figure size 432x288 with 1 Axes>"
            ]
          },
          "metadata": {
            "tags": [],
            "needs_background": "light"
          }
        }
      ]
    },
    {
      "cell_type": "code",
      "metadata": {
        "id": "eSpnUYP9oquu",
        "colab_type": "code",
        "colab": {}
      },
      "source": [
        "x = mercer_nj_both.reset_index().index\n",
        "y = mercer_nj_both.AQI\n",
        "c = np.polyfit(x,y,1)\n",
        "p = np.poly1d(c)\n",
        "plt.plot(x, y, 'k', label=\"Data\")\n",
        "x_extrapolate = range(0,150)\n",
        "plt.plot(x_extrapolate,p(x_extrapolate), 'b-',label=\"Polyfit\")\n",
        "plt.xlabel(\"Days\")\n",
        "plt.ylabel(\"AQI\")\n",
        "plt.legend([\"Data\",\"Model\"])\n",
        "plt.show()"
      ],
      "execution_count": null,
      "outputs": []
    },
    {
      "cell_type": "code",
      "metadata": {
        "id": "8tIPHQz9wOKt",
        "colab_type": "code",
        "colab": {
          "base_uri": "https://localhost:8080/",
          "height": 275
        },
        "outputId": "ab0d1223-a3e8-4b29-bae4-7bc875d1dd9e"
      },
      "source": [
        "#Simple correlation matrix\n",
        "#Just the first column/row is interesting bc that is the AQI correlation to the mobility types\n",
        "plt.matshow(mercer_nj_both[[\n",
        "                            'AQI', \n",
        "                            'retail_and_recreation_percent_change_from_baseline', \n",
        "                            'grocery_and_pharmacy_percent_change_from_baseline',\n",
        "                            'parks_percent_change_from_baseline',\n",
        "                            'transit_stations_percent_change_from_baseline',\n",
        "                            'workplaces_percent_change_from_baseline',\n",
        "                            'residential_percent_change_from_baseline']].corr())\n",
        "plt.show()"
      ],
      "execution_count": null,
      "outputs": [
        {
          "output_type": "display_data",
          "data": {
            "image/png": "[encoded data removed]",
            "text/plain": [
              "<Figure size 288x288 with 1 Axes>"
            ]
          },
          "metadata": {
            "tags": [],
            "needs_background": "light"
          }
        }
      ]
    },
    {
      "cell_type": "code",
      "metadata": {
        "id": "n_u_oVxGyy1L",
        "colab_type": "code",
        "colab": {
          "base_uri": "https://localhost:8080/",
          "height": 201
        },
        "outputId": "d774e2c0-fbc1-4b34-a98f-145a084bfc86"
      },
      "source": [
        "@interact\n",
        "def choose_nj_county(column1 = emissions[emissions['State Name'] == 'New Jersey']['county Name'].unique()):\n",
        "    print('chosen: '+column1)"
      ],
      "execution_count": null,
      "outputs": [
        {
          "output_type": "error",
          "ename": "NameError",
          "evalue": "ignored",
          "traceback": [
            "\u001b[0;31m---------------------------------------------------------------------------\u001b[0m",
            "\u001b[0;31mNameError\u001b[0m                                 Traceback (most recent call last)",
            "\u001b[0;32m<ipython-input-35-0ffeb342a430>\u001b[0m in \u001b[0;36m<module>\u001b[0;34m()\u001b[0m\n\u001b[0;32m----> 1\u001b[0;31m \u001b[0;34m@\u001b[0m\u001b[0minteract\u001b[0m\u001b[0;34m\u001b[0m\u001b[0;34m\u001b[0m\u001b[0m\n\u001b[0m\u001b[1;32m      2\u001b[0m \u001b[0;32mdef\u001b[0m \u001b[0mchoose_nj_county\u001b[0m\u001b[0;34m(\u001b[0m\u001b[0mcolumn1\u001b[0m \u001b[0;34m=\u001b[0m \u001b[0memissions\u001b[0m\u001b[0;34m[\u001b[0m\u001b[0memissions\u001b[0m\u001b[0;34m[\u001b[0m\u001b[0;34m'State Name'\u001b[0m\u001b[0;34m]\u001b[0m \u001b[0;34m==\u001b[0m \u001b[0;34m'New Jersey'\u001b[0m\u001b[0;34m]\u001b[0m\u001b[0;34m[\u001b[0m\u001b[0;34m'county Name'\u001b[0m\u001b[0;34m]\u001b[0m\u001b[0;34m.\u001b[0m\u001b[0munique\u001b[0m\u001b[0;34m(\u001b[0m\u001b[0;34m)\u001b[0m\u001b[0;34m)\u001b[0m\u001b[0;34m:\u001b[0m\u001b[0;34m\u001b[0m\u001b[0;34m\u001b[0m\u001b[0m\n\u001b[1;32m      3\u001b[0m     \u001b[0mprint\u001b[0m\u001b[0;34m(\u001b[0m\u001b[0;34m'chosen: '\u001b[0m\u001b[0;34m+\u001b[0m\u001b[0mcolumn1\u001b[0m\u001b[0;34m)\u001b[0m\u001b[0;34m\u001b[0m\u001b[0;34m\u001b[0m\u001b[0m\n",
            "\u001b[0;31mNameError\u001b[0m: name 'interact' is not defined"
          ]
        }
      ]
    },
    {
      "cell_type": "code",
      "metadata": {
        "id": "8Ysz6IHSF4Zv",
        "colab_type": "code",
        "colab": {
          "base_uri": "https://localhost:8080/",
          "height": 231
        },
        "outputId": "89685f90-6fb2-450e-f1f4-547fda059457"
      },
      "source": [
        "import ipywidgets as widgets\n",
        "from ipywidgets import interact, interact_manual\n",
        "\n",
        "def plot_nj_county(county_name):\n",
        "    county_emissions = emissions[emissions['County'] == county_name]\n",
        "    county_mobility = global_mobility[(global_mobility.country_region == 'United States')][(global_mobility.sub_region_1 == 'New Jersey')][global_mobility.sub_region_2 == county_name + ' County']\n",
        "    \n",
        "    county_mobility = county_mobility.rename(columns={'date':'Date'})\n",
        "    #mercer_nj = mercer_nj_emissions.set_index('Date').join(mercer_nj_mobility.set_index('Date'))\n",
        "    county = county_emissions.set_index('Date').join(county_mobility.set_index('Date'))\n",
        "    county_both = county[county.country_region_code == 'US']\n",
        "    county_both_aqi_average = sum(county_both[' AQI Value']) / len(county_both[' AQI Value'])\n",
        "    plt.plot(county_both.index, [x - county_both_aqi_average for x in county_both[' AQI Value']], label = \" AQI Value\")\n",
        "    plt.plot(county_both.index, county_both['retail_and_recreation_percent_change_from_baseline'], label = \"mobility\")\n",
        "    plt.legend(loc=\"upper left\")\n",
        "    plt.show()\n",
        "\n",
        "@interact\n",
        "def choose_nj_county(county = emissions['County'].unique()):\n",
        "    print('chosen: ' + county)\n",
        "    plot_nj_county(county)"
      ],
      "execution_count": null,
      "outputs": [
        {
          "output_type": "error",
          "ename": "NameError",
          "evalue": "ignored",
          "traceback": [
            "\u001b[0;31m---------------------------------------------------------------------------\u001b[0m",
            "\u001b[0;31mNameError\u001b[0m                                 Traceback (most recent call last)",
            "\u001b[0;32m<ipython-input-1-6093f594cc7b>\u001b[0m in \u001b[0;36m<module>\u001b[0;34m()\u001b[0m\n\u001b[1;32m     17\u001b[0m \u001b[0;34m\u001b[0m\u001b[0m\n\u001b[1;32m     18\u001b[0m \u001b[0;34m@\u001b[0m\u001b[0minteract\u001b[0m\u001b[0;34m\u001b[0m\u001b[0;34m\u001b[0m\u001b[0m\n\u001b[0;32m---> 19\u001b[0;31m \u001b[0;32mdef\u001b[0m \u001b[0mchoose_nj_county\u001b[0m\u001b[0;34m(\u001b[0m\u001b[0mcounty\u001b[0m \u001b[0;34m=\u001b[0m \u001b[0memissions\u001b[0m\u001b[0;34m[\u001b[0m\u001b[0;34m'County'\u001b[0m\u001b[0;34m]\u001b[0m\u001b[0;34m.\u001b[0m\u001b[0munique\u001b[0m\u001b[0;34m(\u001b[0m\u001b[0;34m)\u001b[0m\u001b[0;34m)\u001b[0m\u001b[0;34m:\u001b[0m\u001b[0;34m\u001b[0m\u001b[0;34m\u001b[0m\u001b[0m\n\u001b[0m\u001b[1;32m     20\u001b[0m     \u001b[0mprint\u001b[0m\u001b[0;34m(\u001b[0m\u001b[0;34m'chosen: '\u001b[0m \u001b[0;34m+\u001b[0m \u001b[0mcounty\u001b[0m\u001b[0;34m)\u001b[0m\u001b[0;34m\u001b[0m\u001b[0;34m\u001b[0m\u001b[0m\n\u001b[1;32m     21\u001b[0m     \u001b[0mplot_nj_county\u001b[0m\u001b[0;34m(\u001b[0m\u001b[0mcounty\u001b[0m\u001b[0;34m)\u001b[0m\u001b[0;34m\u001b[0m\u001b[0;34m\u001b[0m\u001b[0m\n",
            "\u001b[0;31mNameError\u001b[0m: name 'emissions' is not defined"
          ]
        }
      ]
    },
    {
      "cell_type": "code",
      "metadata": {
        "id": "25zv5igDeZBV",
        "colab_type": "code",
        "colab": {}
      },
      "source": [
        ""
      ],
      "execution_count": null,
      "outputs": []
    }
  ]
}
